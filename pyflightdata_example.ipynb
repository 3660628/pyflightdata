{
 "metadata": {
  "kernelspec": {
   "codemirror_mode": {
    "name": "ipython",
    "version": 2
   },
   "display_name": "IPython (Python 2)",
   "language": "python",
   "name": "python2"
  },
  "name": "",
  "signature": "sha256:d02b427389124da35138584c982d369255512af4611f70565148508c864a5b6c"
 },
 "nbformat": 3,
 "nbformat_minor": 0,
 "worksheets": [
  {
   "cells": [
    {
     "cell_type": "markdown",
     "metadata": {},
     "source": [
      "Introduction\n",
      "============\n",
      "\n",
      "This notebook will show you how to use the pyflightdata API to get data about aircraft.\n",
      "At the moment the API makes use of http://flightradar24.com to get the data. As we grow the API we will add more data sources. All the data is fetched with HTTP calls made using requests API, so you need an internet connection for this to work.\n",
      "\n",
      "So lets get started!"
     ]
    },
    {
     "cell_type": "code",
     "collapsed": false,
     "input": [
      "from pyflightdata import *"
     ],
     "language": "python",
     "metadata": {},
     "outputs": [],
     "prompt_number": 1
    },
    {
     "cell_type": "markdown",
     "metadata": {},
     "source": [
      "Countries and Airports\n",
      "======================\n",
      "\n",
      "This part of the API is still a stub - you can only get data about all the countries that have airports (recorded on http://flighradar24.com ) and get a list of airports in that country along with the IATA codes. In future this will be expanded to get more detailed information about each airport and also a way to fetch IATA code for the aiport by name."
     ]
    },
    {
     "cell_type": "code",
     "collapsed": false,
     "input": [
      "countries = get_countries()\n",
      "print countries[1:5]"
     ],
     "language": "python",
     "metadata": {},
     "outputs": [
      {
       "output_type": "stream",
       "stream": "stdout",
       "text": [
        "['Albania', 'Algeria', 'Angola', 'Antigua And Barbuda']\n"
       ]
      }
     ],
     "prompt_number": 2
    },
    {
     "cell_type": "code",
     "collapsed": false,
     "input": [
      "airports = get_airports('Alegria')\n",
      "print airports"
     ],
     "language": "python",
     "metadata": {},
     "outputs": [
      {
       "output_type": "stream",
       "stream": "stdout",
       "text": [
        "[]\n"
       ]
      }
     ],
     "prompt_number": 3
    },
    {
     "cell_type": "code",
     "collapsed": false,
     "input": [
      "airports = get_airports('Switzerland')\n",
      "print airports"
     ],
     "language": "python",
     "metadata": {},
     "outputs": [
      {
       "output_type": "stream",
       "stream": "stdout",
       "text": [
        "[(u'St. Gallen / St. Gallen Altenrhein Airport', 'ACH'), (u'Bern / Bern Airport', 'BRN'), (u'Geneva / Geneva International Airport', 'GVA'), (u'Lugano / Lugano Airport', 'LUG'), (u'Zurich / Zurich Airport', 'ZRH')]\n"
       ]
      }
     ],
     "prompt_number": 4
    },
    {
     "cell_type": "code",
     "collapsed": false,
     "input": [
      "name, code = airports[0]\n",
      "print name\n",
      "print code"
     ],
     "language": "python",
     "metadata": {},
     "outputs": [
      {
       "output_type": "stream",
       "stream": "stdout",
       "text": [
        "St. Gallen / St. Gallen Altenrhein Airport\n",
        "ACH\n"
       ]
      }
     ],
     "prompt_number": 5
    },
    {
     "cell_type": "markdown",
     "metadata": {},
     "source": [
      "Getting aircraft data\n",
      "=====================\n",
      "\n",
      "Getting into more serious usage, lets say you took a flight and wanted to know more about the aircraft itself, how can you find out?\n",
      "\n",
      "This is how you get the technical information about an aircraft - it provides 3 image URL's and some basic technical information. In future we will add ways to get more detailed information about the airframe"
     ]
    },
    {
     "cell_type": "code",
     "collapsed": false,
     "input": [
      "data = get_info_by_tail_number('VT-ALQ')\n",
      "print data"
     ],
     "language": "python",
     "metadata": {},
     "outputs": [
      {
       "output_type": "stream",
       "stream": "stdout",
       "text": [
        "{'ModeS': u'8004DF', 'Type code': u'B77W', 'Registration': u'VT-ALQ', 'images': ['http://img.planespotters.net/photo/424000/thumbnail/PlanespottersNet_424170.jpg', 'http://img.planespotters.net/photo/356000/thumbnail/PlanespottersNet_356812.jpg', 'http://img.planespotters.net/photo/347000/thumbnail/PlanespottersNet_347408.jpg'], 'Airline': u'Air India', 'Type': u'Boeing 777-337ER', 'S/N': u'36315'}\n"
       ]
      }
     ],
     "prompt_number": 6
    },
    {
     "cell_type": "markdown",
     "metadata": {},
     "source": [
      "\n",
      "\n",
      "Let's try to make this look better\n",
      "\n"
     ]
    },
    {
     "cell_type": "code",
     "collapsed": false,
     "input": [
      "from IPython.display import Image\n",
      "for key,value in data.items():\n",
      "    if key!='images':\n",
      "        print key + \"\\t:\\t\" + value \n"
     ],
     "language": "python",
     "metadata": {},
     "outputs": [
      {
       "output_type": "stream",
       "stream": "stdout",
       "text": [
        "ModeS\t:\t8004DF\n",
        "Type code\t:\tB77W\n",
        "Registration\t:\tVT-ALQ\n",
        "Airline\t:\tAir India\n",
        "Type\t:\tBoeing 777-337ER\n",
        "S/N\t:\t36315\n"
       ]
      }
     ],
     "prompt_number": 7
    },
    {
     "cell_type": "code",
     "collapsed": false,
     "input": [
      "Image(data['images'][0])"
     ],
     "language": "python",
     "metadata": {},
     "outputs": [
      {
       "jpeg": "[encoded data removed]",
       "metadata": {},
       "output_type": "pyout",
       "prompt_number": 8,
       "text": [
        "<IPython.core.display.Image object>"
       ]
      }
     ],
     "prompt_number": 8
    },
    {
     "cell_type": "code",
     "collapsed": false,
     "input": [
      "Image(data['images'][1])"
     ],
     "language": "python",
     "metadata": {},
     "outputs": [
      {
       "jpeg": "[encoded data removed]",
       "metadata": {},
       "output_type": "pyout",
       "prompt_number": 9,
       "text": [
        "<IPython.core.display.Image object>"
       ]
      }
     ],
     "prompt_number": 9
    },
    {
     "cell_type": "code",
     "collapsed": false,
     "input": [
      "Image(data['images'][2])"
     ],
     "language": "python",
     "metadata": {},
     "outputs": [
      {
       "jpeg": "[encoded data removed]",
       "metadata": {},
       "output_type": "pyout",
       "prompt_number": 10,
       "text": [
        "<IPython.core.display.Image object>"
       ]
      }
     ],
     "prompt_number": 10
    },
    {
     "cell_type": "markdown",
     "metadata": {},
     "source": [
      "Getting flight history\n",
      "=====================\n",
      "\n",
      "You can get the flight history using either the flight number (eg. 9W15 ) or the flight tail number (e.g VT-JBQ).\n",
      "\n",
      "Flight history by flight number has more records and shows the tail number for each flight, while the history by tail number shows the routes flown by that particular aircraft. This is useful if you want to know were the aircraft came from before your flight.\n",
      "\n",
      "The history also shows departure (actual and scheduled) and arrival times (scheduled) and also flight status.\n",
      "\n",
      "Please note that the string data is encoded as 'unicode-escape'"
     ]
    },
    {
     "cell_type": "code",
     "collapsed": false,
     "input": [
      "import pandas\n",
      "\n",
      "hist_by_flt = get_history_by_flight_number('AI101')"
     ],
     "language": "python",
     "metadata": {},
     "outputs": [],
     "prompt_number": 11
    },
    {
     "cell_type": "code",
     "collapsed": false,
     "input": [
      "df = pandas.DataFrame(hist_by_flt)"
     ],
     "language": "python",
     "metadata": {},
     "outputs": [],
     "prompt_number": 12
    },
    {
     "cell_type": "code",
     "collapsed": false,
     "input": [
      "df.head(10)"
     ],
     "language": "python",
     "metadata": {},
     "outputs": [
      {
       "html": [
        "<div style=\"max-height:1000px;max-width:1500px;overflow:auto;\">\n",
        "<table border=\"1\" class=\"dataframe\">\n",
        "  <thead>\n",
        "    <tr style=\"text-align: right;\">\n",
        "      <th></th>\n",
        "      <th>aircraft</th>\n",
        "      <th>atd</th>\n",
        "      <th>class</th>\n",
        "      <th>data-date</th>\n",
        "      <th>data-flight</th>\n",
        "      <th>data-flight-number</th>\n",
        "      <th>data-lat-from</th>\n",
        "      <th>data-lat-to</th>\n",
        "      <th>data-lon-from</th>\n",
        "      <th>data-lon-to</th>\n",
        "      <th>data-name-from</th>\n",
        "      <th>data-name-to</th>\n",
        "      <th>date</th>\n",
        "      <th>from</th>\n",
        "      <th>id</th>\n",
        "      <th>sta</th>\n",
        "      <th>status</th>\n",
        "      <th>std</th>\n",
        "      <th>to</th>\n",
        "    </tr>\n",
        "  </thead>\n",
        "  <tbody>\n",
        "    <tr>\n",
        "      <th>0</th>\n",
        "      <td> -</td>\n",
        "      <td> -</td>\n",
        "      <td> [future, ]</td>\n",
        "      <td> 2014-11-09</td>\n",
        "      <td> </td>\n",
        "      <td> AI101</td>\n",
        "      <td> 19.08868</td>\n",
        "      <td>   28.5665</td>\n",
        "      <td> 72.867912</td>\n",
        "      <td> 77.103081</td>\n",
        "      <td> Mumbai Chhatrapati Shivaji International Airport</td>\n",
        "      <td>      Delhi Indira Gandhi International Airport</td>\n",
        "      <td> 2014-11-09</td>\n",
        "      <td> Mumbai (BOM)</td>\n",
        "      <td> NaN</td>\n",
        "      <td> 18:15</td>\n",
        "      <td> Scheduled</td>\n",
        "      <td> 16:00</td>\n",
        "      <td>    Delhi (DEL)</td>\n",
        "    </tr>\n",
        "    <tr>\n",
        "      <th>1</th>\n",
        "      <td> -</td>\n",
        "      <td> -</td>\n",
        "      <td> [future, ]</td>\n",
        "      <td> 2014-11-08</td>\n",
        "      <td> </td>\n",
        "      <td> AI101</td>\n",
        "      <td>  28.5665</td>\n",
        "      <td> 40.639751</td>\n",
        "      <td> 77.103081</td>\n",
        "      <td>  -73.7789</td>\n",
        "      <td>        Delhi Indira Gandhi International Airport</td>\n",
        "      <td> New York John F. Kennedy International Airport</td>\n",
        "      <td> 2014-11-08</td>\n",
        "      <td>  Delhi (DEL)</td>\n",
        "      <td> NaN</td>\n",
        "      <td> 11:35</td>\n",
        "      <td> Scheduled</td>\n",
        "      <td> 20:05</td>\n",
        "      <td> New York (JFK)</td>\n",
        "    </tr>\n",
        "    <tr>\n",
        "      <th>2</th>\n",
        "      <td> -</td>\n",
        "      <td> -</td>\n",
        "      <td> [future, ]</td>\n",
        "      <td> 2014-11-08</td>\n",
        "      <td> </td>\n",
        "      <td> AI101</td>\n",
        "      <td> 19.08868</td>\n",
        "      <td>   28.5665</td>\n",
        "      <td> 72.867912</td>\n",
        "      <td> 77.103081</td>\n",
        "      <td> Mumbai Chhatrapati Shivaji International Airport</td>\n",
        "      <td>      Delhi Indira Gandhi International Airport</td>\n",
        "      <td> 2014-11-08</td>\n",
        "      <td> Mumbai (BOM)</td>\n",
        "      <td> NaN</td>\n",
        "      <td> 18:15</td>\n",
        "      <td> Scheduled</td>\n",
        "      <td> 16:00</td>\n",
        "      <td>    Delhi (DEL)</td>\n",
        "    </tr>\n",
        "    <tr>\n",
        "      <th>3</th>\n",
        "      <td> -</td>\n",
        "      <td> -</td>\n",
        "      <td> [future, ]</td>\n",
        "      <td> 2014-11-07</td>\n",
        "      <td> </td>\n",
        "      <td> AI101</td>\n",
        "      <td>  28.5665</td>\n",
        "      <td> 40.639751</td>\n",
        "      <td> 77.103081</td>\n",
        "      <td>  -73.7789</td>\n",
        "      <td>        Delhi Indira Gandhi International Airport</td>\n",
        "      <td> New York John F. Kennedy International Airport</td>\n",
        "      <td> 2014-11-07</td>\n",
        "      <td>  Delhi (DEL)</td>\n",
        "      <td> NaN</td>\n",
        "      <td> 11:35</td>\n",
        "      <td> Scheduled</td>\n",
        "      <td> 20:05</td>\n",
        "      <td> New York (JFK)</td>\n",
        "    </tr>\n",
        "    <tr>\n",
        "      <th>4</th>\n",
        "      <td> -</td>\n",
        "      <td> -</td>\n",
        "      <td> [future, ]</td>\n",
        "      <td> 2014-11-07</td>\n",
        "      <td> </td>\n",
        "      <td> AI101</td>\n",
        "      <td> 19.08868</td>\n",
        "      <td>   28.5665</td>\n",
        "      <td> 72.867912</td>\n",
        "      <td> 77.103081</td>\n",
        "      <td> Mumbai Chhatrapati Shivaji International Airport</td>\n",
        "      <td>      Delhi Indira Gandhi International Airport</td>\n",
        "      <td> 2014-11-07</td>\n",
        "      <td> Mumbai (BOM)</td>\n",
        "      <td> NaN</td>\n",
        "      <td> 18:15</td>\n",
        "      <td> Scheduled</td>\n",
        "      <td> 16:00</td>\n",
        "      <td>    Delhi (DEL)</td>\n",
        "    </tr>\n",
        "    <tr>\n",
        "      <th>5</th>\n",
        "      <td> -</td>\n",
        "      <td> -</td>\n",
        "      <td> [future, ]</td>\n",
        "      <td> 2014-11-06</td>\n",
        "      <td> </td>\n",
        "      <td> AI101</td>\n",
        "      <td>  28.5665</td>\n",
        "      <td> 40.639751</td>\n",
        "      <td> 77.103081</td>\n",
        "      <td>  -73.7789</td>\n",
        "      <td>        Delhi Indira Gandhi International Airport</td>\n",
        "      <td> New York John F. Kennedy International Airport</td>\n",
        "      <td> 2014-11-06</td>\n",
        "      <td>  Delhi (DEL)</td>\n",
        "      <td> NaN</td>\n",
        "      <td> 11:35</td>\n",
        "      <td> Scheduled</td>\n",
        "      <td> 20:05</td>\n",
        "      <td> New York (JFK)</td>\n",
        "    </tr>\n",
        "    <tr>\n",
        "      <th>6</th>\n",
        "      <td> -</td>\n",
        "      <td> -</td>\n",
        "      <td> [future, ]</td>\n",
        "      <td> 2014-11-06</td>\n",
        "      <td> </td>\n",
        "      <td> AI101</td>\n",
        "      <td> 19.08868</td>\n",
        "      <td>   28.5665</td>\n",
        "      <td> 72.867912</td>\n",
        "      <td> 77.103081</td>\n",
        "      <td> Mumbai Chhatrapati Shivaji International Airport</td>\n",
        "      <td>      Delhi Indira Gandhi International Airport</td>\n",
        "      <td> 2014-11-06</td>\n",
        "      <td> Mumbai (BOM)</td>\n",
        "      <td> NaN</td>\n",
        "      <td> 18:15</td>\n",
        "      <td> Scheduled</td>\n",
        "      <td> 16:00</td>\n",
        "      <td>    Delhi (DEL)</td>\n",
        "    </tr>\n",
        "    <tr>\n",
        "      <th>7</th>\n",
        "      <td> -</td>\n",
        "      <td> -</td>\n",
        "      <td> [future, ]</td>\n",
        "      <td> 2014-11-05</td>\n",
        "      <td> </td>\n",
        "      <td> AI101</td>\n",
        "      <td>  28.5665</td>\n",
        "      <td> 40.639751</td>\n",
        "      <td> 77.103081</td>\n",
        "      <td>  -73.7789</td>\n",
        "      <td>        Delhi Indira Gandhi International Airport</td>\n",
        "      <td> New York John F. Kennedy International Airport</td>\n",
        "      <td> 2014-11-05</td>\n",
        "      <td>  Delhi (DEL)</td>\n",
        "      <td> NaN</td>\n",
        "      <td> 11:35</td>\n",
        "      <td> Scheduled</td>\n",
        "      <td> 20:05</td>\n",
        "      <td> New York (JFK)</td>\n",
        "    </tr>\n",
        "    <tr>\n",
        "      <th>8</th>\n",
        "      <td> -</td>\n",
        "      <td> -</td>\n",
        "      <td> [future, ]</td>\n",
        "      <td> 2014-11-05</td>\n",
        "      <td> </td>\n",
        "      <td> AI101</td>\n",
        "      <td> 19.08868</td>\n",
        "      <td>   28.5665</td>\n",
        "      <td> 72.867912</td>\n",
        "      <td> 77.103081</td>\n",
        "      <td> Mumbai Chhatrapati Shivaji International Airport</td>\n",
        "      <td>      Delhi Indira Gandhi International Airport</td>\n",
        "      <td> 2014-11-05</td>\n",
        "      <td> Mumbai (BOM)</td>\n",
        "      <td> NaN</td>\n",
        "      <td> 18:15</td>\n",
        "      <td> Scheduled</td>\n",
        "      <td> 16:00</td>\n",
        "      <td>    Delhi (DEL)</td>\n",
        "    </tr>\n",
        "    <tr>\n",
        "      <th>9</th>\n",
        "      <td> -</td>\n",
        "      <td> -</td>\n",
        "      <td> [future, ]</td>\n",
        "      <td> 2014-11-04</td>\n",
        "      <td> </td>\n",
        "      <td> AI101</td>\n",
        "      <td>  28.5665</td>\n",
        "      <td> 40.639751</td>\n",
        "      <td> 77.103081</td>\n",
        "      <td>  -73.7789</td>\n",
        "      <td>        Delhi Indira Gandhi International Airport</td>\n",
        "      <td> New York John F. Kennedy International Airport</td>\n",
        "      <td> 2014-11-04</td>\n",
        "      <td>  Delhi (DEL)</td>\n",
        "      <td> NaN</td>\n",
        "      <td> 11:35</td>\n",
        "      <td> Scheduled</td>\n",
        "      <td> 20:05</td>\n",
        "      <td> New York (JFK)</td>\n",
        "    </tr>\n",
        "  </tbody>\n",
        "</table>\n",
        "</div>"
       ],
       "metadata": {},
       "output_type": "pyout",
       "prompt_number": 13,
       "text": [
        "  aircraft atd       class   data-date data-flight data-flight-number  \\\n",
        "0        -   -  [future, ]  2014-11-09                          AI101   \n",
        "1        -   -  [future, ]  2014-11-08                          AI101   \n",
        "2        -   -  [future, ]  2014-11-08                          AI101   \n",
        "3        -   -  [future, ]  2014-11-07                          AI101   \n",
        "4        -   -  [future, ]  2014-11-07                          AI101   \n",
        "5        -   -  [future, ]  2014-11-06                          AI101   \n",
        "6        -   -  [future, ]  2014-11-06                          AI101   \n",
        "7        -   -  [future, ]  2014-11-05                          AI101   \n",
        "8        -   -  [future, ]  2014-11-05                          AI101   \n",
        "9        -   -  [future, ]  2014-11-04                          AI101   \n",
        "\n",
        "  data-lat-from data-lat-to data-lon-from data-lon-to  \\\n",
        "0      19.08868     28.5665     72.867912   77.103081   \n",
        "1       28.5665   40.639751     77.103081    -73.7789   \n",
        "2      19.08868     28.5665     72.867912   77.103081   \n",
        "3       28.5665   40.639751     77.103081    -73.7789   \n",
        "4      19.08868     28.5665     72.867912   77.103081   \n",
        "5       28.5665   40.639751     77.103081    -73.7789   \n",
        "6      19.08868     28.5665     72.867912   77.103081   \n",
        "7       28.5665   40.639751     77.103081    -73.7789   \n",
        "8      19.08868     28.5665     72.867912   77.103081   \n",
        "9       28.5665   40.639751     77.103081    -73.7789   \n",
        "\n",
        "                                     data-name-from  \\\n",
        "0  Mumbai Chhatrapati Shivaji International Airport   \n",
        "1         Delhi Indira Gandhi International Airport   \n",
        "2  Mumbai Chhatrapati Shivaji International Airport   \n",
        "3         Delhi Indira Gandhi International Airport   \n",
        "4  Mumbai Chhatrapati Shivaji International Airport   \n",
        "5         Delhi Indira Gandhi International Airport   \n",
        "6  Mumbai Chhatrapati Shivaji International Airport   \n",
        "7         Delhi Indira Gandhi International Airport   \n",
        "8  Mumbai Chhatrapati Shivaji International Airport   \n",
        "9         Delhi Indira Gandhi International Airport   \n",
        "\n",
        "                                     data-name-to        date          from  \\\n",
        "0       Delhi Indira Gandhi International Airport  2014-11-09  Mumbai (BOM)   \n",
        "1  New York John F. Kennedy International Airport  2014-11-08   Delhi (DEL)   \n",
        "2       Delhi Indira Gandhi International Airport  2014-11-08  Mumbai (BOM)   \n",
        "3  New York John F. Kennedy International Airport  2014-11-07   Delhi (DEL)   \n",
        "4       Delhi Indira Gandhi International Airport  2014-11-07  Mumbai (BOM)   \n",
        "5  New York John F. Kennedy International Airport  2014-11-06   Delhi (DEL)   \n",
        "6       Delhi Indira Gandhi International Airport  2014-11-06  Mumbai (BOM)   \n",
        "7  New York John F. Kennedy International Airport  2014-11-05   Delhi (DEL)   \n",
        "8       Delhi Indira Gandhi International Airport  2014-11-05  Mumbai (BOM)   \n",
        "9  New York John F. Kennedy International Airport  2014-11-04   Delhi (DEL)   \n",
        "\n",
        "    id    sta     status    std              to  \n",
        "0  NaN  18:15  Scheduled  16:00     Delhi (DEL)  \n",
        "1  NaN  11:35  Scheduled  20:05  New York (JFK)  \n",
        "2  NaN  18:15  Scheduled  16:00     Delhi (DEL)  \n",
        "3  NaN  11:35  Scheduled  20:05  New York (JFK)  \n",
        "4  NaN  18:15  Scheduled  16:00     Delhi (DEL)  \n",
        "5  NaN  11:35  Scheduled  20:05  New York (JFK)  \n",
        "6  NaN  18:15  Scheduled  16:00     Delhi (DEL)  \n",
        "7  NaN  11:35  Scheduled  20:05  New York (JFK)  \n",
        "8  NaN  18:15  Scheduled  16:00     Delhi (DEL)  \n",
        "9  NaN  11:35  Scheduled  20:05  New York (JFK)  "
       ]
      }
     ],
     "prompt_number": 13
    },
    {
     "cell_type": "code",
     "collapsed": false,
     "input": [
      "hist_by_flt[0]"
     ],
     "language": "python",
     "metadata": {},
     "outputs": [
      {
       "metadata": {},
       "output_type": "pyout",
       "prompt_number": 14,
       "text": [
        "{'aircraft': '-',\n",
        " 'atd': '-',\n",
        " 'class': ['future', ''],\n",
        " 'data-date': '2014-11-09',\n",
        " 'data-flight': '',\n",
        " 'data-flight-number': 'AI101',\n",
        " 'data-lat-from': '19.08868',\n",
        " 'data-lat-to': '28.5665',\n",
        " 'data-lon-from': '72.867912',\n",
        " 'data-lon-to': '77.103081',\n",
        " 'data-name-from': 'Mumbai Chhatrapati Shivaji International Airport',\n",
        " 'data-name-to': 'Delhi Indira Gandhi International Airport',\n",
        " 'date': '2014-11-09',\n",
        " 'from': 'Mumbai (BOM)',\n",
        " 'sta': '18:15',\n",
        " 'status': 'Scheduled',\n",
        " 'std': '16:00',\n",
        " 'to': 'Delhi (DEL)'}"
       ]
      }
     ],
     "prompt_number": 14
    },
    {
     "cell_type": "code",
     "collapsed": false,
     "input": [
      "df['aircraft']"
     ],
     "language": "python",
     "metadata": {},
     "outputs": [
      {
       "metadata": {},
       "output_type": "pyout",
       "prompt_number": 15,
       "text": [
        "0     -\n",
        "1     -\n",
        "2     -\n",
        "3     -\n",
        "4     -\n",
        "5     -\n",
        "6     -\n",
        "7     -\n",
        "8     -\n",
        "9     -\n",
        "10    -\n",
        "11    -\n",
        "12    -\n",
        "13    -\n",
        "14    -\n",
        "...\n",
        "246    B77W\\xa0(VT-ALP)\n",
        "247    B77W\\xa0(VT-ALR)\n",
        "248    B77W\\xa0(VT-ALQ)\n",
        "249    B77W\\xa0(VT-ALP)\n",
        "250                   -\n",
        "251    B77W\\xa0(VT-ALU)\n",
        "252    B77W\\xa0(VT-ALR)\n",
        "253    B77W\\xa0(VT-ALK)\n",
        "254    B77W\\xa0(VT-ALO)\n",
        "255    B77W\\xa0(VT-ALR)\n",
        "256    B788\\xa0(VT-ANJ)\n",
        "257    B77W\\xa0(VT-ALS)\n",
        "258    B77W\\xa0(VT-ALK)\n",
        "259    B77W\\xa0(VT-ALR)\n",
        "260                   -\n",
        "Name: aircraft, Length: 261, dtype: object"
       ]
      }
     ],
     "prompt_number": 15
    },
    {
     "cell_type": "code",
     "collapsed": false,
     "input": [
      "hist_by_tail = get_history_by_tail_number('VT-ALQ')"
     ],
     "language": "python",
     "metadata": {},
     "outputs": [],
     "prompt_number": 16
    },
    {
     "cell_type": "code",
     "collapsed": false,
     "input": [
      "df1 = pandas.DataFrame(hist_by_tail)\n",
      "df1.head()"
     ],
     "language": "python",
     "metadata": {},
     "outputs": [
      {
       "html": [
        "<div style=\"max-height:1000px;max-width:1500px;overflow:auto;\">\n",
        "<table border=\"1\" class=\"dataframe\">\n",
        "  <thead>\n",
        "    <tr style=\"text-align: right;\">\n",
        "      <th></th>\n",
        "      <th>atd</th>\n",
        "      <th>class</th>\n",
        "      <th>data-date</th>\n",
        "      <th>data-flight</th>\n",
        "      <th>data-flight-number</th>\n",
        "      <th>data-lat-from</th>\n",
        "      <th>data-lat-to</th>\n",
        "      <th>data-lon-from</th>\n",
        "      <th>data-lon-to</th>\n",
        "      <th>data-name-from</th>\n",
        "      <th>data-name-to</th>\n",
        "      <th>date</th>\n",
        "      <th>flight</th>\n",
        "      <th>from</th>\n",
        "      <th>id</th>\n",
        "      <th>sta</th>\n",
        "      <th>status</th>\n",
        "      <th>std</th>\n",
        "      <th>to</th>\n",
        "    </tr>\n",
        "  </thead>\n",
        "  <tbody>\n",
        "    <tr>\n",
        "      <th>0</th>\n",
        "      <td> 19:42</td>\n",
        "      <td> [, ]</td>\n",
        "      <td> 2014-10-31</td>\n",
        "      <td> 78971207</td>\n",
        "      <td> </td>\n",
        "      <td> 41.978142</td>\n",
        "      <td>   28.5665</td>\n",
        "      <td>  -87.9058</td>\n",
        "      <td> 77.103081</td>\n",
        "      <td>             Chicago O'Hare International Airport</td>\n",
        "      <td>        Delhi Indira Gandhi International Airport</td>\n",
        "      <td> 2014-10-31</td>\n",
        "      <td> AI126</td>\n",
        "      <td>  Chicago (ORD)</td>\n",
        "      <td> flight-4b50147</td>\n",
        "      <td> 09:55</td>\n",
        "      <td> Landed\\xa009:43</td>\n",
        "      <td> 19:30</td>\n",
        "      <td>   Delhi (DEL)</td>\n",
        "    </tr>\n",
        "    <tr>\n",
        "      <th>1</th>\n",
        "      <td> 21:01</td>\n",
        "      <td> [, ]</td>\n",
        "      <td> 2014-10-30</td>\n",
        "      <td> 78843335</td>\n",
        "      <td> </td>\n",
        "      <td>   28.5665</td>\n",
        "      <td> 41.978142</td>\n",
        "      <td> 77.103081</td>\n",
        "      <td>  -87.9058</td>\n",
        "      <td>        Delhi Indira Gandhi International Airport</td>\n",
        "      <td>             Chicago O'Hare International Airport</td>\n",
        "      <td> 2014-10-30</td>\n",
        "      <td> AI127</td>\n",
        "      <td>    Delhi (DEL)</td>\n",
        "      <td> flight-4b30dc7</td>\n",
        "      <td> 12:30</td>\n",
        "      <td> Landed\\xa011:46</td>\n",
        "      <td> 20:30</td>\n",
        "      <td> Chicago (ORD)</td>\n",
        "    </tr>\n",
        "    <tr>\n",
        "      <th>2</th>\n",
        "      <td> 16:25</td>\n",
        "      <td> [, ]</td>\n",
        "      <td> 2014-10-30</td>\n",
        "      <td> 78811024</td>\n",
        "      <td> </td>\n",
        "      <td>  19.08868</td>\n",
        "      <td>   28.5665</td>\n",
        "      <td> 72.867912</td>\n",
        "      <td> 77.103081</td>\n",
        "      <td> Mumbai Chhatrapati Shivaji International Airport</td>\n",
        "      <td>        Delhi Indira Gandhi International Airport</td>\n",
        "      <td> 2014-10-30</td>\n",
        "      <td> AI101</td>\n",
        "      <td>   Mumbai (BOM)</td>\n",
        "      <td> flight-4b28f90</td>\n",
        "      <td> 18:15</td>\n",
        "      <td> Landed\\xa018:03</td>\n",
        "      <td> 16:00</td>\n",
        "      <td>   Delhi (DEL)</td>\n",
        "    </tr>\n",
        "    <tr>\n",
        "      <th>3</th>\n",
        "      <td> 11:32</td>\n",
        "      <td> [, ]</td>\n",
        "      <td> 2014-10-29</td>\n",
        "      <td> 78636866</td>\n",
        "      <td> </td>\n",
        "      <td>   28.5665</td>\n",
        "      <td>  19.08868</td>\n",
        "      <td> 77.103081</td>\n",
        "      <td> 72.867912</td>\n",
        "      <td>        Delhi Indira Gandhi International Airport</td>\n",
        "      <td> Mumbai Chhatrapati Shivaji International Airport</td>\n",
        "      <td> 2014-10-29</td>\n",
        "      <td> AI102</td>\n",
        "      <td>    Delhi (DEL)</td>\n",
        "      <td> flight-4afe742</td>\n",
        "      <td> 13:25</td>\n",
        "      <td> Landed\\xa013:09</td>\n",
        "      <td> 11:15</td>\n",
        "      <td>  Mumbai (BOM)</td>\n",
        "    </tr>\n",
        "    <tr>\n",
        "      <th>4</th>\n",
        "      <td> 19:32</td>\n",
        "      <td> [, ]</td>\n",
        "      <td> 2014-10-28</td>\n",
        "      <td> 78561917</td>\n",
        "      <td> </td>\n",
        "      <td> 40.639751</td>\n",
        "      <td>   28.5665</td>\n",
        "      <td>  -73.7789</td>\n",
        "      <td> 77.103081</td>\n",
        "      <td>   New York John F. Kennedy International Airport</td>\n",
        "      <td>        Delhi Indira Gandhi International Airport</td>\n",
        "      <td> 2014-10-28</td>\n",
        "      <td> AI102</td>\n",
        "      <td> New York (JFK)</td>\n",
        "      <td> flight-4aec27d</td>\n",
        "      <td> 09:20</td>\n",
        "      <td> Landed\\xa008:46</td>\n",
        "      <td> 19:25</td>\n",
        "      <td>   Delhi (DEL)</td>\n",
        "    </tr>\n",
        "  </tbody>\n",
        "</table>\n",
        "</div>"
       ],
       "metadata": {},
       "output_type": "pyout",
       "prompt_number": 17,
       "text": [
        "     atd class   data-date data-flight data-flight-number data-lat-from  \\\n",
        "0  19:42  [, ]  2014-10-31    78971207                        41.978142   \n",
        "1  21:01  [, ]  2014-10-30    78843335                          28.5665   \n",
        "2  16:25  [, ]  2014-10-30    78811024                         19.08868   \n",
        "3  11:32  [, ]  2014-10-29    78636866                          28.5665   \n",
        "4  19:32  [, ]  2014-10-28    78561917                        40.639751   \n",
        "\n",
        "  data-lat-to data-lon-from data-lon-to  \\\n",
        "0     28.5665      -87.9058   77.103081   \n",
        "1   41.978142     77.103081    -87.9058   \n",
        "2     28.5665     72.867912   77.103081   \n",
        "3    19.08868     77.103081   72.867912   \n",
        "4     28.5665      -73.7789   77.103081   \n",
        "\n",
        "                                     data-name-from  \\\n",
        "0              Chicago O'Hare International Airport   \n",
        "1         Delhi Indira Gandhi International Airport   \n",
        "2  Mumbai Chhatrapati Shivaji International Airport   \n",
        "3         Delhi Indira Gandhi International Airport   \n",
        "4    New York John F. Kennedy International Airport   \n",
        "\n",
        "                                       data-name-to        date flight  \\\n",
        "0         Delhi Indira Gandhi International Airport  2014-10-31  AI126   \n",
        "1              Chicago O'Hare International Airport  2014-10-30  AI127   \n",
        "2         Delhi Indira Gandhi International Airport  2014-10-30  AI101   \n",
        "3  Mumbai Chhatrapati Shivaji International Airport  2014-10-29  AI102   \n",
        "4         Delhi Indira Gandhi International Airport  2014-10-28  AI102   \n",
        "\n",
        "             from              id    sta           status    std  \\\n",
        "0   Chicago (ORD)  flight-4b50147  09:55  Landed\\xa009:43  19:30   \n",
        "1     Delhi (DEL)  flight-4b30dc7  12:30  Landed\\xa011:46  20:30   \n",
        "2    Mumbai (BOM)  flight-4b28f90  18:15  Landed\\xa018:03  16:00   \n",
        "3     Delhi (DEL)  flight-4afe742  13:25  Landed\\xa013:09  11:15   \n",
        "4  New York (JFK)  flight-4aec27d  09:20  Landed\\xa008:46  19:25   \n",
        "\n",
        "              to  \n",
        "0    Delhi (DEL)  \n",
        "1  Chicago (ORD)  \n",
        "2    Delhi (DEL)  \n",
        "3   Mumbai (BOM)  \n",
        "4    Delhi (DEL)  "
       ]
      }
     ],
     "prompt_number": 17
    },
    {
     "cell_type": "code",
     "collapsed": false,
     "input": [
      "df1['flight']"
     ],
     "language": "python",
     "metadata": {},
     "outputs": [
      {
       "metadata": {},
       "output_type": "pyout",
       "prompt_number": 18,
       "text": [
        "0     AI126\n",
        "1     AI127\n",
        "2     AI101\n",
        "3     AI102\n",
        "4     AI102\n",
        "5          \n",
        "6     AI101\n",
        "7     AI101\n",
        "8     AI810\n",
        "9     AI677\n",
        "10    AI930\n",
        "11    AI931\n",
        "12    AI920\n",
        "13    AI925\n",
        "Name: flight, dtype: object"
       ]
      }
     ],
     "prompt_number": 18
    }
   ],
   "metadata": {}
  }
 ]
}